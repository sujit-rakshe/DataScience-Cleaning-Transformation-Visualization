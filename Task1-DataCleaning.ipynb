{
 "cells": [
  {
   "cell_type": "markdown",
   "id": "2455ad20",
   "metadata": {},
   "source": [
    "# Task 1: Data Cleaning of the Iris Dataset"
   ]
  },
  {
   "cell_type": "markdown",
   "id": "a02bbe9d",
   "metadata": {},
   "source": [
    "### Objective\n",
    "This notebook demonstrates data cleaning techniques on the Iris dataset (loaded from `iris.csv`). Steps include handling missing values, removing duplicates, detecting and dealing with outliers, and feature scaling. Each step is explained in detail, and key transformations are shown with before-and-after views of the data."
   ]
  },
  {
   "cell_type": "markdown",
   "id": "fff5f756",
   "metadata": {},
   "source": [
    "### Step 1: Load the Dataset\n",
    "The Iris dataset is loaded from `iris.csv` into a Pandas DataFrame for easy data manipulation. This dataset contains\n",
    "measurements of iris flowers, including `sepal length`, `sepal width`, `petal length`, and `petal width`, along with \n",
    "a `species` column."
   ]
  },
  {
   "cell_type": "code",
   "execution_count": 1,
   "id": "e951d2f8",
   "metadata": {},
   "outputs": [
    {
     "data": {
      "text/html": [
       "<div>\n",
       "<style scoped>\n",
       "    .dataframe tbody tr th:only-of-type {\n",
       "        vertical-align: middle;\n",
       "    }\n",
       "\n",
       "    .dataframe tbody tr th {\n",
       "        vertical-align: top;\n",
       "    }\n",
       "\n",
       "    .dataframe thead th {\n",
       "        text-align: right;\n",
       "    }\n",
       "</style>\n",
       "<table border=\"1\" class=\"dataframe\">\n",
       "  <thead>\n",
       "    <tr style=\"text-align: right;\">\n",
       "      <th></th>\n",
       "      <th>Id</th>\n",
       "      <th>SepalLengthCm</th>\n",
       "      <th>SepalWidthCm</th>\n",
       "      <th>PetalLengthCm</th>\n",
       "      <th>PetalWidthCm</th>\n",
       "      <th>Species</th>\n",
       "    </tr>\n",
       "  </thead>\n",
       "  <tbody>\n",
       "    <tr>\n",
       "      <th>0</th>\n",
       "      <td>1</td>\n",
       "      <td>5.1</td>\n",
       "      <td>3.5</td>\n",
       "      <td>1.4</td>\n",
       "      <td>0.2</td>\n",
       "      <td>Iris-setosa</td>\n",
       "    </tr>\n",
       "    <tr>\n",
       "      <th>1</th>\n",
       "      <td>2</td>\n",
       "      <td>4.9</td>\n",
       "      <td>3.0</td>\n",
       "      <td>1.4</td>\n",
       "      <td>0.2</td>\n",
       "      <td>Iris-setosa</td>\n",
       "    </tr>\n",
       "    <tr>\n",
       "      <th>2</th>\n",
       "      <td>3</td>\n",
       "      <td>4.7</td>\n",
       "      <td>3.2</td>\n",
       "      <td>1.3</td>\n",
       "      <td>0.2</td>\n",
       "      <td>Iris-setosa</td>\n",
       "    </tr>\n",
       "    <tr>\n",
       "      <th>3</th>\n",
       "      <td>4</td>\n",
       "      <td>4.6</td>\n",
       "      <td>3.1</td>\n",
       "      <td>1.5</td>\n",
       "      <td>0.2</td>\n",
       "      <td>Iris-setosa</td>\n",
       "    </tr>\n",
       "    <tr>\n",
       "      <th>4</th>\n",
       "      <td>5</td>\n",
       "      <td>5.0</td>\n",
       "      <td>3.6</td>\n",
       "      <td>1.4</td>\n",
       "      <td>0.2</td>\n",
       "      <td>Iris-setosa</td>\n",
       "    </tr>\n",
       "  </tbody>\n",
       "</table>\n",
       "</div>"
      ],
      "text/plain": [
       "   Id  SepalLengthCm  SepalWidthCm  PetalLengthCm  PetalWidthCm      Species\n",
       "0   1            5.1           3.5            1.4           0.2  Iris-setosa\n",
       "1   2            4.9           3.0            1.4           0.2  Iris-setosa\n",
       "2   3            4.7           3.2            1.3           0.2  Iris-setosa\n",
       "3   4            4.6           3.1            1.5           0.2  Iris-setosa\n",
       "4   5            5.0           3.6            1.4           0.2  Iris-setosa"
      ]
     },
     "execution_count": 1,
     "metadata": {},
     "output_type": "execute_result"
    }
   ],
   "source": [
    "# Import necessary libraries\n",
    "import pandas as pd\n",
    "import numpy as np\n",
    "\n",
    "# Load the iris dataset from a CSV file\n",
    "df = pd.read_csv(\"iris.csv\")\n",
    "\n",
    "# Display basic information about the dataset\n",
    "df.head()"
   ]
  },
  {
   "cell_type": "markdown",
   "id": "2d46ef6e",
   "metadata": {},
   "source": [
    "### Step 2: Handling Missing Data\n",
    "To ensure data integrity, we first check for missing values using `isnull().sum()`. If missing values are found, they are \n",
    "imputed with the mean for each numerical column. This approach is particularly effective for small, numerical datasets like \n",
    "Iris."
   ]
  },
  {
   "cell_type": "code",
   "execution_count": 2,
   "id": "931f9ee8",
   "metadata": {},
   "outputs": [
    {
     "name": "stdout",
     "output_type": "stream",
     "text": [
      "Missing values in each column:\n",
      "Id               0\n",
      "SepalLengthCm    0\n",
      "SepalWidthCm     0\n",
      "PetalLengthCm    0\n",
      "PetalWidthCm     0\n",
      "Species          0\n",
      "dtype: int64\n"
     ]
    }
   ],
   "source": [
    "# Check for missing values in each column\n",
    "print(\"Missing values in each column:\")\n",
    "print(df.isnull().sum())\n",
    "\n",
    "# Fill missing values in numeric columns only\n",
    "df.fillna(df.select_dtypes(include='number').mean(), inplace=True)"
   ]
  },
  {
   "cell_type": "markdown",
   "id": "649fbc6b",
   "metadata": {},
   "source": [
    "### Step 3: Removing Duplicate Records\n",
    "Duplicate rows are identified using `duplicated()`. Any duplicate rows found are removed with `drop_duplicates()`. This step \n",
    "helps in maintaining the dataset’s integrity and preventing biases in analysis.\n"
   ]
  },
  {
   "cell_type": "code",
   "execution_count": 3,
   "id": "54978cf5",
   "metadata": {},
   "outputs": [
    {
     "name": "stdout",
     "output_type": "stream",
     "text": [
      "Number of duplicate rows: 0\n",
      "Duplicates removed.\n"
     ]
    }
   ],
   "source": [
    "# Check for duplicate records\n",
    "duplicate_count = df.duplicated().sum()\n",
    "print(f\"Number of duplicate rows: {duplicate_count}\")\n",
    "\n",
    "# Remove duplicate records, if any\n",
    "df = df.drop_duplicates()\n",
    "print(\"Duplicates removed.\")"
   ]
  },
  {
   "cell_type": "markdown",
   "id": "e96f7edf",
   "metadata": {},
   "source": [
    "### Step 4: Outlier Detection and Handling\n",
    "Outliers can affect analysis, so we identify them using the Z-score method. Values beyond 3 standard deviations from the mean \n",
    "are considered outliers. These outliers are then removed to ensure the dataset remains reliable."
   ]
  },
  {
   "cell_type": "code",
   "execution_count": 4,
   "id": "3fe62741",
   "metadata": {},
   "outputs": [
    {
     "name": "stdout",
     "output_type": "stream",
     "text": [
      "Number of outliers detected: 1\n"
     ]
    }
   ],
   "source": [
    "from scipy.stats import zscore\n",
    "\n",
    "# Calculate Z-scores for each feature column\n",
    "z_scores = np.abs(zscore(df.iloc[:, :-1]))  # Exclude the species column if it is numeric\n",
    "outliers = (z_scores > 3).any(axis=1)  # Identify rows with any Z-score > 3\n",
    "print(f\"Number of outliers detected: {outliers.sum()}\")\n",
    "\n",
    "# Remove outliers from the dataset\n",
    "df_cleaned = df[outliers]"
   ]
  },
  {
   "cell_type": "markdown",
   "id": "cc808936",
   "metadata": {},
   "source": [
    "### Step 5: Feature Scaling\n",
    "To normalize the features, we apply `StandardScaler` to the feature columns (excluding `species`). This transformation standardizes the data, giving each feature a mean of 0 and a standard deviation of 1, which can improve the performance of machine learning algorithms."
   ]
  },
  {
   "cell_type": "code",
   "execution_count": 5,
   "id": "b43152cb",
   "metadata": {},
   "outputs": [
    {
     "name": "stderr",
     "output_type": "stream",
     "text": [
      "C:\\Users\\S Rakshe\\AppData\\Local\\Temp\\ipykernel_9272\\1221041823.py:5: SettingWithCopyWarning: \n",
      "A value is trying to be set on a copy of a slice from a DataFrame.\n",
      "Try using .loc[row_indexer,col_indexer] = value instead\n",
      "\n",
      "See the caveats in the documentation: https://pandas.pydata.org/pandas-docs/stable/user_guide/indexing.html#returning-a-view-versus-a-copy\n",
      "  df_cleaned.loc[:, df_cleaned.columns != 'Species'] = scaler.fit_transform(df_cleaned.loc[:, df_cleaned.columns != 'Species'])\n"
     ]
    },
    {
     "data": {
      "text/html": [
       "<div>\n",
       "<style scoped>\n",
       "    .dataframe tbody tr th:only-of-type {\n",
       "        vertical-align: middle;\n",
       "    }\n",
       "\n",
       "    .dataframe tbody tr th {\n",
       "        vertical-align: top;\n",
       "    }\n",
       "\n",
       "    .dataframe thead th {\n",
       "        text-align: right;\n",
       "    }\n",
       "</style>\n",
       "<table border=\"1\" class=\"dataframe\">\n",
       "  <thead>\n",
       "    <tr style=\"text-align: right;\">\n",
       "      <th></th>\n",
       "      <th>Id</th>\n",
       "      <th>SepalLengthCm</th>\n",
       "      <th>SepalWidthCm</th>\n",
       "      <th>PetalLengthCm</th>\n",
       "      <th>PetalWidthCm</th>\n",
       "      <th>Species</th>\n",
       "    </tr>\n",
       "  </thead>\n",
       "  <tbody>\n",
       "    <tr>\n",
       "      <th>15</th>\n",
       "      <td>0.0</td>\n",
       "      <td>0.0</td>\n",
       "      <td>0.0</td>\n",
       "      <td>0.0</td>\n",
       "      <td>0.0</td>\n",
       "      <td>Iris-setosa</td>\n",
       "    </tr>\n",
       "  </tbody>\n",
       "</table>\n",
       "</div>"
      ],
      "text/plain": [
       "     Id  SepalLengthCm  SepalWidthCm  PetalLengthCm  PetalWidthCm      Species\n",
       "15  0.0            0.0           0.0            0.0           0.0  Iris-setosa"
      ]
     },
     "execution_count": 5,
     "metadata": {},
     "output_type": "execute_result"
    }
   ],
   "source": [
    "from sklearn.preprocessing import StandardScaler\n",
    "\n",
    "# Standardize feature columns (excluding the 'species' column)\n",
    "scaler = StandardScaler()\n",
    "df_cleaned.loc[:, df_cleaned.columns != 'Species'] = scaler.fit_transform(df_cleaned.loc[:, df_cleaned.columns != 'Species'])\n",
    "\n",
    "# Display the first few rows to show scaled features\n",
    "df_cleaned.head()"
   ]
  },
  {
   "cell_type": "markdown",
   "id": "62637dd5",
   "metadata": {},
   "source": [
    "### Before-and-After Comparison\n",
    "These snapshots provide a comparison of the dataset at different stages:\n",
    "1. **Before Handling Outliers and Scaling:** Shows the raw data loaded from `iris.csv`.\n",
    "2. **After Handling Outliers and Scaling:** Shows the cleaned dataset, with outliers removed and features standardized.\n"
   ]
  },
  {
   "cell_type": "code",
   "execution_count": 6,
   "id": "678128f2",
   "metadata": {},
   "outputs": [
    {
     "name": "stdout",
     "output_type": "stream",
     "text": [
      "Dataset before handling outliers and scaling:\n",
      "   Id  SepalLengthCm  SepalWidthCm  PetalLengthCm  PetalWidthCm      Species\n",
      "0   1            5.1           3.5            1.4           0.2  Iris-setosa\n",
      "1   2            4.9           3.0            1.4           0.2  Iris-setosa\n",
      "2   3            4.7           3.2            1.3           0.2  Iris-setosa\n",
      "3   4            4.6           3.1            1.5           0.2  Iris-setosa\n",
      "4   5            5.0           3.6            1.4           0.2  Iris-setosa\n",
      "\n",
      "Dataset after handling outliers and scaling:\n",
      "     Id  SepalLengthCm  SepalWidthCm  PetalLengthCm  PetalWidthCm      Species\n",
      "15  0.0            0.0           0.0            0.0           0.0  Iris-setosa\n"
     ]
    }
   ],
   "source": [
    "# Display dataset before and after handling outliers and scaling\n",
    "print(\"Dataset before handling outliers and scaling:\")\n",
    "print(df.head())\n",
    "\n",
    "print(\"\\nDataset after handling outliers and scaling:\")\n",
    "print(df_cleaned.head())"
   ]
  },
  {
   "cell_type": "markdown",
   "id": "763e4560",
   "metadata": {},
   "source": [
    "### Conclusion\n",
    "In this notebook, we performed essential data cleaning steps on the Iris dataset, including handling missing values, removing \n",
    "duplicates, detecting and handling outliers, and feature scaling. The final dataset is now ready for analysis, with improved \n",
    "quality and consistency.\n"
   ]
  }
 ],
 "metadata": {
  "kernelspec": {
   "display_name": "Python 3 (ipykernel)",
   "language": "python",
   "name": "python3"
  },
  "language_info": {
   "codemirror_mode": {
    "name": "ipython",
    "version": 3
   },
   "file_extension": ".py",
   "mimetype": "text/x-python",
   "name": "python",
   "nbconvert_exporter": "python",
   "pygments_lexer": "ipython3",
   "version": "3.9.13"
  }
 },
 "nbformat": 4,
 "nbformat_minor": 5
}
